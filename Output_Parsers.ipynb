{
 "cells": [
  {
   "cell_type": "markdown",
   "metadata": {},
   "source": [
    "### Output Parsers\n",
    "Os analisadores de saída são responsáveis por pegar a saída de um LLM e transformá-la em um formato mais adequado. Isso é muito útil quando você está usando LLMs para gerar qualquer forma de dados estruturados.\n",
    "\n",
    "* formata as saídas do modelo de LLM de forma que essa saída seja util no pós processamento\n",
    "* pós processamento ultilizada de outras formas dentro do programa e só então usado pelo usuário\n",
    "\n",
    "    - Basicamente, Output Parsers é técnica de estrturar dados não estrurados"
   ]
  },
  {
   "cell_type": "markdown",
   "metadata": {},
   "source": [
    "Digamos que temos a seguinte review de um produto:\n",
    "\n",
    "> \"Este soprador de folhas é bastante incrível. Ele tem quatro configurações: sopro de vela, brisa suave, cidade ventosa e tornado. Chegou em dois dias, bem a tempo para o presente de aniversário da minha esposa. Acho que minha esposa gostou tanto que ficou sem palavras. Até agora, fui o único a usá-lo, e tenho usado em todas as manhãs alternadas para limpar as folhas do nosso gramado. É um pouco mais caro do que os outros sopradores de folhas disponíveis no mercado, mas acho que vale a pena pelas características extras.\""
   ]
  },
  {
   "cell_type": "markdown",
   "metadata": {},
   "source": [
    "\n",
    "E eu quero que o modelo de linguagem processe esta review para estruturá-la no seguinte formato:\n",
    "\n",
    "```json\n",
    "{\n",
    "  \"presente\": true,\n",
    "  \"dias_entrega\": 2,\n",
    "  \"percepcao_de_valor\": [\"um pouco mais caro do que os outros sopradores de folhas disponíveis no mercado\"]\n",
    "}\n",
    "\n",
    "```"
   ]
  },
  {
   "cell_type": "code",
   "execution_count": 7,
   "metadata": {},
   "outputs": [
    {
     "name": "stdout",
     "output_type": "stream",
     "text": [
      "[HumanMessage(content='\\nPara o texto a seguir, extraia as seguintes informações:\\n\\npresente: O item foi comprado para algém? True caso verdadeiro\\ne False caso falso ou não tenha a informação.\\n\\ndias_entrega: Quantos dias para a entrega chegar?\\nSe a resposta não for encontrada, retorne -1.\\n\\npercepcao_de_valor: Extraia qualquer frase sobre o \\nvalor ou preço do produto. Retorne como uma lista\\nde Python.\\n\\nTexto: Este soprador de folhas é bastante incrível. Ele tem \\nquatro configurações: sopro de vela, brisa suave, cidade ventosa \\ne tornado. Chegou em dois dias, bem a tempo para o presente de \\naniversário da minha esposa. Acho que minha esposa gostou tanto \\nque ficou sem palavras. Até agora, fui o único a usá-lo, e tenho \\nusado em todas as manhãs alternadas para limpar as folhas do \\nnosso gramado. É um pouco mais caro do que os outros sopradores \\nde folhas disponíveis no mercado, mas acho que vale a pena pelas \\ncaracterísticas extras.\\n\\nRetorn a respostra no formato JSON\\n')]\n"
     ]
    }
   ],
   "source": [
    "review_cliente = \"\"\"Este soprador de folhas é bastante incrível. Ele tem \n",
    "quatro configurações: sopro de vela, brisa suave, cidade ventosa \n",
    "e tornado. Chegou em dois dias, bem a tempo para o presente de \n",
    "aniversário da minha esposa. Acho que minha esposa gostou tanto \n",
    "que ficou sem palavras. Até agora, fui o único a usá-lo, e tenho \n",
    "usado em todas as manhãs alternadas para limpar as folhas do \n",
    "nosso gramado. É um pouco mais caro do que os outros sopradores \n",
    "de folhas disponíveis no mercado, mas acho que vale a pena pelas \n",
    "características extras.\"\"\"\n",
    "\n",
    "\n",
    "from langchain.prompts import ChatPromptTemplate\n",
    "\n",
    "review_template = ChatPromptTemplate.from_template(\"\"\"\n",
    "Para o texto a seguir, extraia as seguintes informações:\n",
    "\n",
    "presente: O item foi comprado para algém? True caso verdadeiro\n",
    "e False caso falso ou não tenha a informação.\n",
    "\n",
    "dias_entrega: Quantos dias para a entrega chegar?\n",
    "Se a resposta não for encontrada, retorne -1.\n",
    "\n",
    "percepcao_de_valor: Extraia qualquer frase sobre o \n",
    "valor ou preço do produto. Retorne como uma lista\n",
    "de Python.\n",
    "\n",
    "Texto: {review}\n",
    "\n",
    "Retorn a respostra no formato JSON\n",
    "\"\"\")\n",
    "\n",
    "print(review_template.format_messages(review=review_cliente))"
   ]
  },
  {
   "cell_type": "markdown",
   "metadata": {},
   "source": [
    "A forma abaixo  não a mais adequada, uma vez que a review ficou pouco custumizável e não definimos os tipos de dados que queremos, por exemplo.\n"
   ]
  },
  {
   "cell_type": "code",
   "execution_count": 5,
   "metadata": {},
   "outputs": [],
   "source": [
    "#Passando para o modelo de chat\n",
    "from langchain_openai.chat_models import ChatOpenAI\n",
    "\n",
    "chat = ChatOpenAI()\n",
    "resposta = chat.invoke(review_template.format_messages(review=review_cliente))"
   ]
  },
  {
   "cell_type": "code",
   "execution_count": 6,
   "metadata": {},
   "outputs": [
    {
     "name": "stdout",
     "output_type": "stream",
     "text": [
      "{\n",
      "    \"presente\": true,\n",
      "    \"dias_entrega\": 2,\n",
      "    \"percepcao_de_valor\": [\n",
      "        \"É um pouco mais caro do que os outros sopradores de folhas disponíveis no mercado, mas acho que vale a pena pelas características extras.\"\n",
      "    ]\n",
      "}\n"
     ]
    }
   ],
   "source": [
    "print(resposta.content)"
   ]
  },
  {
   "cell_type": "markdown",
   "metadata": {},
   "source": [
    "### Customizando com Output Parsers"
   ]
  },
  {
   "cell_type": "code",
   "execution_count": 8,
   "metadata": {},
   "outputs": [],
   "source": [
    "from langchain.output_parsers import ResponseSchema\n",
    "from langchain.output_parsers import StructuredOutputParser"
   ]
  },
  {
   "cell_type": "code",
   "execution_count": 9,
   "metadata": {},
   "outputs": [
    {
     "name": "stdout",
     "output_type": "stream",
     "text": [
      "The output should be a markdown code snippet formatted in the following schema, including the leading and trailing \"```json\" and \"```\":\n",
      "\n",
      "```json\n",
      "{\n",
      "\t\"presente\": bool  // O item foi comprado para algém? True caso verdadeiro e False caso falos ou não tenha a infomação.\n",
      "\t\"dias_entrega\": int  // Quantos dias para a entrega chegar?Se a resposta não for encontrada, retorne -1.\n",
      "\t\"percepcao_de_valor\": list  // Extraia qualquer frase sobre o valor ou preço do produto. Retorne como uma lista de Python.\n",
      "}\n",
      "```\n"
     ]
    }
   ],
   "source": [
    "#Aqui criaremos schemas para cada variável do meu Json, vou criar um schema específico com: Nome, Descrição e o Tipo de Saída :\n",
    "schema_presente = ResponseSchema(\n",
    "    name='presente',                                                                #Nome  \n",
    "    type='bool',                                                                    #Tipo de dado e Descrição\n",
    "    description='O item foi comprado para algém? True caso verdadeiro \\\n",
    "e False caso falos ou não tenha a infomação.'\n",
    ")\n",
    "\n",
    "schema_entrega = ResponseSchema(\n",
    "    name='dias_entrega',\n",
    "    type='int',\n",
    "    description='Quantos dias para a entrega chegar?\\\n",
    "Se a resposta não for encontrada, retorne -1.'\n",
    ")\n",
    "\n",
    "schema_valor = ResponseSchema(\n",
    "    name='percepcao_de_valor',\n",
    "    type='list',\n",
    "    description='Extraia qualquer frase sobre o \\\n",
    "valor ou preço do produto. Retorne como uma lista \\\n",
    "de Python.'\n",
    ")\n",
    "\n",
    "# Proximo passo é realizar a soma dos schemas em um grande schema:\n",
    "\n",
    "response_schema = [schema_presente,\n",
    "                   schema_entrega,\n",
    "                   schema_valor]\n",
    "output_parser = StructuredOutputParser.from_response_schemas(response_schema)\n",
    "schema_formatado = output_parser.get_format_instructions()                          #cria uma formatação com instrução clara\n",
    "print(schema_formatado)                                                             #me retorna um output no formato Json formatado os schemas com tipos respectivos"
   ]
  },
  {
   "cell_type": "markdown",
   "metadata": {},
   "source": [
    "### Refazendo o ChatPrompt usando nosso Schema formatado"
   ]
  },
  {
   "cell_type": "code",
   "execution_count": 10,
   "metadata": {},
   "outputs": [
    {
     "name": "stdout",
     "output_type": "stream",
     "text": [
      "[HumanMessage(content='\\nPara o texto a seguir, extraia as seguintes informações:\\n\\npresente, dias_entrega e percepcao_de_valor\\n\\nTexto: Este soprador de folhas é bastante incrível. Ele tem \\nquatro configurações: sopro de vela, brisa suave, cidade ventosa \\ne tornado. Chegou em dois dias, bem a tempo para o presente de \\naniversário da minha esposa. Acho que minha esposa gostou tanto \\nque ficou sem palavras. Até agora, fui o único a usá-lo, e tenho \\nusado em todas as manhãs alternadas para limpar as folhas do \\nnosso gramado. É um pouco mais caro do que os outros sopradores \\nde folhas disponíveis no mercado, mas acho que vale a pena pelas \\ncaracterísticas extras.\\n\\nThe output should be a markdown code snippet formatted in the following schema, including the leading and trailing \"```json\" and \"```\":\\n\\n```json\\n{\\n\\t\"presente\": bool  // O item foi comprado para algém? True caso verdadeiro e False caso falos ou não tenha a infomação.\\n\\t\"dias_entrega\": int  // Quantos dias para a entrega chegar?Se a resposta não for encontrada, retorne -1.\\n\\t\"percepcao_de_valor\": list  // Extraia qualquer frase sobre o valor ou preço do produto. Retorne como uma lista de Python.\\n}\\n```\\n')]\n"
     ]
    }
   ],
   "source": [
    "from langchain.prompts import ChatPromptTemplate\n",
    "\n",
    "review_template = ChatPromptTemplate.from_template(\"\"\"\n",
    "Para o texto a seguir, extraia as seguintes informações:\n",
    "\n",
    "presente, dias_entrega e percepcao_de_valor\n",
    "\n",
    "Texto: {review}\n",
    "\n",
    "{schema}\n",
    "\"\"\", partial_variables={'schema': schema_formatado})\n",
    "\n",
    "print(review_template.format_messages(review=review_cliente))"
   ]
  },
  {
   "cell_type": "code",
   "execution_count": 11,
   "metadata": {},
   "outputs": [
    {
     "data": {
      "text/plain": [
       "AIMessage(content='```json\\n{\\n\\t\"presente\": true,\\n\\t\"dias_entrega\": 2,\\n\\t\"percepcao_de_valor\": [\"É um pouco mais caro do que os outros sopradores de folhas disponíveis no mercado, mas acho que vale a pena pelas características extras.\"]\\n}\\n```', additional_kwargs={'refusal': None}, response_metadata={'token_usage': {'completion_tokens': 63, 'prompt_tokens': 320, 'total_tokens': 383}, 'model_name': 'gpt-3.5-turbo-0125', 'system_fingerprint': None, 'finish_reason': 'stop', 'logprobs': None}, id='run-f52b2c32-dbf8-4246-bfba-494760c76ef7-0', usage_metadata={'input_tokens': 320, 'output_tokens': 63, 'total_tokens': 383})"
      ]
     },
     "execution_count": 11,
     "metadata": {},
     "output_type": "execute_result"
    }
   ],
   "source": [
    "from langchain_openai.chat_models import ChatOpenAI\n",
    "\n",
    "chat = ChatOpenAI()\n",
    "resposta = chat.invoke(review_template.format_messages(review=review_cliente))\n",
    "resposta"
   ]
  },
  {
   "cell_type": "code",
   "execution_count": 12,
   "metadata": {},
   "outputs": [
    {
     "name": "stdout",
     "output_type": "stream",
     "text": [
      "```json\n",
      "{\n",
      "\t\"presente\": true,\n",
      "\t\"dias_entrega\": 2,\n",
      "\t\"percepcao_de_valor\": [\"É um pouco mais caro do que os outros sopradores de folhas disponíveis no mercado, mas acho que vale a pena pelas características extras.\"]\n",
      "}\n",
      "```\n"
     ]
    }
   ],
   "source": [
    "print(resposta.content)"
   ]
  },
  {
   "cell_type": "code",
   "execution_count": 13,
   "metadata": {},
   "outputs": [],
   "source": [
    "resposta_json = output_parser.parse(resposta.content)"
   ]
  },
  {
   "cell_type": "markdown",
   "metadata": {},
   "source": [
    "### A partir daqui conseguimos acessar as informações de cada Schema:"
   ]
  },
  {
   "cell_type": "code",
   "execution_count": 14,
   "metadata": {},
   "outputs": [
    {
     "data": {
      "text/plain": [
       "True"
      ]
     },
     "execution_count": 14,
     "metadata": {},
     "output_type": "execute_result"
    }
   ],
   "source": [
    "resposta_json['presente']"
   ]
  },
  {
   "cell_type": "code",
   "execution_count": 15,
   "metadata": {},
   "outputs": [
    {
     "data": {
      "text/plain": [
       "2"
      ]
     },
     "execution_count": 15,
     "metadata": {},
     "output_type": "execute_result"
    }
   ],
   "source": [
    "resposta_json['dias_entrega']"
   ]
  },
  {
   "cell_type": "code",
   "execution_count": 16,
   "metadata": {},
   "outputs": [
    {
     "data": {
      "text/plain": [
       "['É um pouco mais caro do que os outros sopradores de folhas disponíveis no mercado, mas acho que vale a pena pelas características extras.']"
      ]
     },
     "execution_count": 16,
     "metadata": {},
     "output_type": "execute_result"
    }
   ],
   "source": [
    "resposta_json['percepcao_de_valor']"
   ]
  },
  {
   "cell_type": "markdown",
   "metadata": {},
   "source": [
    "Dado esse contexto podemos usar o modelo para inserir novas schemas com sentimento do clientes e avaliações, por exemplo.\n"
   ]
  },
  {
   "cell_type": "markdown",
   "metadata": {},
   "source": []
  }
 ],
 "metadata": {
  "kernelspec": {
   "display_name": "Python 3",
   "language": "python",
   "name": "python3"
  },
  "language_info": {
   "codemirror_mode": {
    "name": "ipython",
    "version": 3
   },
   "file_extension": ".py",
   "mimetype": "text/x-python",
   "name": "python",
   "nbconvert_exporter": "python",
   "pygments_lexer": "ipython3",
   "version": "3.12.5"
  }
 },
 "nbformat": 4,
 "nbformat_minor": 2
}
