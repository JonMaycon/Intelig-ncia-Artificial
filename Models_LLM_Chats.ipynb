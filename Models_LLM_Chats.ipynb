{
 "cells": [
  {
   "cell_type": "markdown",
   "metadata": {},
   "source": [
    "### LLM"
   ]
  },
  {
   "cell_type": "markdown",
   "metadata": {},
   "source": [
    "Large Language Models (LLMs) são um componente central do LangChain. O LangChain não atende seus próprios LLMs, mas fornece uma interface padrão para interagir com muitos LLMs diferentes. \\n\",\n",
    "    Para ser específico, essa interface é uma que recebe como entrada uma string e retorna uma string.\\n\",\n",
    "    \"\\n\",\n",
    "    \"Existem muitos provedores de LLM (OpenAI, Cohere, Hugging Face, etc.) - a LLMclasse foi projetada para fornecer uma interface padrão para todos eles."
   ]
  },
  {
   "cell_type": "code",
   "execution_count": 1,
   "metadata": {},
   "outputs": [
    {
     "data": {
      "text/plain": [
       "True"
      ]
     },
     "execution_count": 1,
     "metadata": {},
     "output_type": "execute_result"
    }
   ],
   "source": [
    "#forçar o carregamento da sua chave de API que está no arquivo .env:\n",
    "from dotenv import load_dotenv\n",
    "load_dotenv()"
   ]
  },
  {
   "cell_type": "code",
   "execution_count": 2,
   "metadata": {},
   "outputs": [],
   "source": [
    "from langchain_openai import OpenAI \n",
    "\n",
    "llm = OpenAI()"
   ]
  },
  {
   "cell_type": "markdown",
   "metadata": {},
   "source": [
    "### Chamando a LLM"
   ]
  },
  {
   "cell_type": "code",
   "execution_count": 3,
   "metadata": {},
   "outputs": [
    {
     "data": {
      "text/plain": [
       "'\\n\\nEra uma vez uma jovem chamada Ana, que sempre foi fascinada pelo mundo da tecnologia e sempre sonhou em criar seus próprios programas. No entanto, ela nunca teve a oportunidade de aprender a programar, pois sua família não tinha condições de pagar um curso.\\n\\nCerto dia, Ana descobriu que existiam diversos conteúdos gratuitos na internet que ensinavam a programar. Empolgada, ela começou a devorar todo o conhecimento que encontrava, assistindo a tutoriais, lendo artigos e fazendo exercícios.\\n\\nNo início, Ana ficou um pouco perdida com tantas linguagens e conceitos diferentes, mas ela não desistiu. Ela criou uma rotina de estudos e se dedicava todos os dias, mesmo que por apenas algumas horas, a aprender a programar.\\n\\nCom o tempo, Ana começou a entender os fundamentos da lógica de programação e a se familiarizar com as linguagens de programação mais utilizadas no mercado. Ela também descobriu que programar era muito mais do que escrever códigos, era uma forma de solucionar problemas e'"
      ]
     },
     "execution_count": 3,
     "metadata": {},
     "output_type": "execute_result"
    }
   ],
   "source": [
    "pergunta = 'Conte uma história breve sobre a jornada de aprender a programar'\n",
    "llm.invoke(pergunta)"
   ]
  },
  {
   "cell_type": "markdown",
   "metadata": {},
   "source": [
    "### Chamando stream de resposta"
   ]
  },
  {
   "cell_type": "code",
   "execution_count": 4,
   "metadata": {},
   "outputs": [
    {
     "name": "stdout",
     "output_type": "stream",
     "text": [
      "\n",
      "\n",
      "Era uma vez uma jovem chamada Maria, que sempre foi fascinada por tecnologia e computadores. Ela sempre gostava de mexer no computador, mas nunca imaginou que um dia aprenderia a criar seus próprios programas.\n",
      "\n",
      "Um dia, Maria decidiu que era hora de aprender a programar. Ela pesquisou na internet e descobriu que existiam muitos cursos e tutoriais disponíveis. Empolgada, ela escolheu um e começou sua jornada.\n",
      "\n",
      "No início, Maria ficou um pouco confusa com todas aquelas linhas de códigos e comandos que pareciam uma língua estrangeira. Mas ela não desistiu, pois sabia que aprender a programar era um desafio que valia a pena.\n",
      "\n",
      "Com muita dedicação e perseverança, Maria foi aprendendo os conceitos básicos de programação e logo já estava criando seus primeiros programas simples. Cada vez que conseguia fazer seu código funcionar corretamente, a sensação de realização e orgulho era indescritível.\n",
      "\n",
      "Mas a jornada de Maria estava apenas começando, pois a programação é um campo em const"
     ]
    }
   ],
   "source": [
    "# Um comportamento mais parecido com interface da OpenAI\n",
    "pergunta = 'Conte uma história breve sobre a jornada de aprender a programar'\n",
    "for trecho in llm.stream(pergunta):\n",
    "    print(trecho, end='')                    # O 'end='' controla que a cada print,seja em uma nova linha, fazendo com que cada print seja logo depois do anterior."
   ]
  },
  {
   "cell_type": "markdown",
   "metadata": {},
   "source": [
    "### Chamada Simultâneas:"
   ]
  },
  {
   "cell_type": "code",
   "execution_count": 5,
   "metadata": {},
   "outputs": [
    {
     "data": {
      "text/plain": [
       "['\\n\\nO céu é um conceito presente em diversas culturas e religiões que se refere a uma região ou plano elevado e divino, habitado por seres superiores e considerado o lugar de descanso e felicidade eterna após a morte. Na maioria das crenças, o céu é visto como um lugar de paz, harmonia e plenitude, onde as almas dos justos e virtuosos podem alcançar a vida após a morte. Em algumas religiões orientais, o céu é visto como um estado de iluminação e conexão com o divino, a ser alcançado através da prática espiritual. De forma geral, o céu é associado a um lugar elevado e transcendente, onde a felicidade e a perfeição são alcançadas.',\n",
       " '\\n\\nA terra é o terceiro planeta do sistema solar, localizado a uma distância de aproximadamente 150 milhões de quilômetros do sol. É o único planeta conhecido até o momento a abrigar vida, com uma grande diversidade de seres vivos, incluindo humanos. É formada por uma camada sólida externa, chamada de crosta, que cobre um núcleo de ferro e níquel fundido. A maior parte da superfície da terra é coberta por água, e também possui ar, que é essencial para a sustentação da vida. Além disso, a terra possui um campo magnético que a protege das partículas solares e uma atmosfera que ajuda a regular a temperatura do planeta. ',\n",
       " '\\n\\nAs estrelas são corpos celestes que emitem luz própria devido à fusão nuclear de elementos em seu núcleo. Elas são formadas por nuvens de gás e poeira que se contraem sob a força da gravidade, formando uma esfera de matéria em equilíbrio.\\n\\nAs estrelas são responsáveis por fornecer a maior parte da energia do universo, e são essenciais para a existência da vida em nosso planeta, já que fornecem calor e luz para a Terra. Elas também são importantes para a navegação, já que sua posição no céu pode ser utilizada como referência.\\n\\nExistem bilhões de estrelas em nossa galáxia, a Via Láctea, e bilhões de galáxias no universo, cada uma contendo milhões ou bilhões de estrelas. As estrelas variam em tamanho, cor, temperatura e brilho, e podem ser classificadas em diferentes tipos, como anãs vermelhas, gigantes azuis, supergigantes vermelhas, entre outras.\\n\\nAlém disso, as estrelas podem']"
      ]
     },
     "execution_count": 5,
     "metadata": {},
     "output_type": "execute_result"
    }
   ],
   "source": [
    "perguntas = [\n",
    "    'O que é o céu?',\n",
    "    'O que é a terra?',\n",
    "    'O que são as estrelas'\n",
    "]\n",
    "llm.batch(perguntas)"
   ]
  },
  {
   "cell_type": "markdown",
   "metadata": {},
   "source": [
    "### Chat Models\n",
    "\n",
    "Os modelos de bate-papo são um componente central do LangChain.\n",
    "\n",
    "Um modelo de bate-papo é um modelo de linguagem que usa mensagens de bate-papo como entradas e retorna mensagens de bate-papo como saídas (em oposição ao uso de texto simples).\n",
    "\n",
    "O LangChain tem integrações com muitos provedores de modelos (OpenAI, Cohere, Hugging Face, etc.) e expõe uma interface padrão para interagir com todos esses modelos.\n",
    "\n",
    "O LangChain permite que você use modelos em modos de sincronização, assíncrono, em lote e streaming, além de fornecer outros recursos (por exemplo, cache) e muito mais."
   ]
  },
  {
   "cell_type": "code",
   "execution_count": 6,
   "metadata": {},
   "outputs": [],
   "source": [
    "from langchain_openai import ChatOpenAI\n",
    "\n",
    "chat = ChatOpenAI(model='gpt-3.5-turbo-0125')"
   ]
  },
  {
   "cell_type": "code",
   "execution_count": 7,
   "metadata": {},
   "outputs": [
    {
     "data": {
      "text/plain": [
       "AIMessage(content='Depende, você está usando a matemática convencional ou a matemática das piadas? Na matemática convencional, 1 + 1 é igual a 2. Mas na matemática das piadas, 1 + 1 pode ser igual a uma confusão, um aperto de mão ou até mesmo um par de meias! 😉', additional_kwargs={'refusal': None}, response_metadata={'token_usage': {'completion_tokens': 80, 'prompt_tokens': 30, 'total_tokens': 110}, 'model_name': 'gpt-3.5-turbo-0125', 'system_fingerprint': None, 'finish_reason': 'stop', 'logprobs': None}, id='run-e4744d58-a44a-421e-b823-84a9bb186fd4-0', usage_metadata={'input_tokens': 30, 'output_tokens': 80, 'total_tokens': 110})"
      ]
     },
     "execution_count": 7,
     "metadata": {},
     "output_type": "execute_result"
    }
   ],
   "source": [
    "#Trabalhar com LangChain envolve flexibilidade, existem a seperação de bibliotecas para cada situação\n",
    "from langchain_core.messages import HumanMessage, SystemMessage     #Do LangChain Core, iremos usar: HumanMessage, SystemMessage\n",
    "\n",
    "mensagens = [\n",
    "    SystemMessage(content='Você é um assistente que conta piadas.'),       #SystemMessage determina todo o comportamento do meu LLM para aquele instante\n",
    "    HumanMessage(content='Quanto é 1 + 1?')\n",
    "]\n",
    "\n",
    "chat.invoke(mensagens)                     #Aqui não passamos mais um texto dentro do invoke, somente uma lista que contem mensagem diferentes: uma de sistema e outra humana\n",
    "\n",
    "                                           # Irá retornar IAMessage, porque foi a IA que respondeu."
   ]
  },
  {
   "cell_type": "code",
   "execution_count": 8,
   "metadata": {},
   "outputs": [],
   "source": [
    "# Caso eu queira somente o content, salva em uma variável\n",
    "respostaIA = chat.invoke(mensagens) \n"
   ]
  },
  {
   "cell_type": "code",
   "execution_count": 9,
   "metadata": {},
   "outputs": [
    {
     "data": {
      "text/plain": [
       "'Depende, você quer a resposta matemática ou uma piada?'"
      ]
     },
     "execution_count": 9,
     "metadata": {},
     "output_type": "execute_result"
    }
   ],
   "source": [
    "respostaIA.content"
   ]
  },
  {
   "cell_type": "code",
   "execution_count": 10,
   "metadata": {},
   "outputs": [
    {
     "data": {
      "text/plain": [
       "{'token_usage': {'completion_tokens': 15,\n",
       "  'prompt_tokens': 30,\n",
       "  'total_tokens': 45},\n",
       " 'model_name': 'gpt-3.5-turbo-0125',\n",
       " 'system_fingerprint': None,\n",
       " 'finish_reason': 'stop',\n",
       " 'logprobs': None}"
      ]
     },
     "execution_count": 10,
     "metadata": {},
     "output_type": "execute_result"
    }
   ],
   "source": [
    "#Retorno de meta data:\n",
    "respostaIA.response_metadata"
   ]
  },
  {
   "cell_type": "code",
   "execution_count": null,
   "metadata": {},
   "outputs": [],
   "source": []
  }
 ],
 "metadata": {
  "kernelspec": {
   "display_name": "Python 3",
   "language": "python",
   "name": "python3"
  },
  "language_info": {
   "codemirror_mode": {
    "name": "ipython",
    "version": 3
   },
   "file_extension": ".py",
   "mimetype": "text/x-python",
   "name": "python",
   "nbconvert_exporter": "python",
   "pygments_lexer": "ipython3",
   "version": "3.12.5"
  }
 },
 "nbformat": 4,
 "nbformat_minor": 2
}
